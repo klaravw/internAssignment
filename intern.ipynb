{
 "cells": [
  {
   "cell_type": "code",
   "execution_count": 1,
   "metadata": {},
   "outputs": [],
   "source": [
    "import pandas as pd\n",
    "import matplotlib.pyplot as plt\n",
    "import numpy as np"
   ]
  },
  {
   "cell_type": "code",
   "execution_count": 2,
   "metadata": {},
   "outputs": [],
   "source": [
    "retailData = pd.read_csv('summer_internship_takehome.csv') #loading in data"
   ]
  },
  {
   "cell_type": "code",
   "execution_count": 3,
   "metadata": {},
   "outputs": [
    {
     "data": {
      "text/html": [
       "<div>\n",
       "<style scoped>\n",
       "    .dataframe tbody tr th:only-of-type {\n",
       "        vertical-align: middle;\n",
       "    }\n",
       "\n",
       "    .dataframe tbody tr th {\n",
       "        vertical-align: top;\n",
       "    }\n",
       "\n",
       "    .dataframe thead th {\n",
       "        text-align: right;\n",
       "    }\n",
       "</style>\n",
       "<table border=\"1\" class=\"dataframe\">\n",
       "  <thead>\n",
       "    <tr style=\"text-align: right;\">\n",
       "      <th></th>\n",
       "      <th>Location number</th>\n",
       "      <th>Month</th>\n",
       "      <th>State</th>\n",
       "      <th>Gross revenue</th>\n",
       "      <th>Fixed cost</th>\n",
       "      <th>Variable cost</th>\n",
       "      <th>Rental cost</th>\n",
       "      <th>Number of products</th>\n",
       "      <th>Owned</th>\n",
       "    </tr>\n",
       "  </thead>\n",
       "  <tbody>\n",
       "    <tr>\n",
       "      <td>0</td>\n",
       "      <td>1</td>\n",
       "      <td>1</td>\n",
       "      <td>TX</td>\n",
       "      <td>48628171.02</td>\n",
       "      <td>9218156.69</td>\n",
       "      <td>24278189.23</td>\n",
       "      <td>365880</td>\n",
       "      <td>4452</td>\n",
       "      <td>False</td>\n",
       "    </tr>\n",
       "    <tr>\n",
       "      <td>1</td>\n",
       "      <td>1</td>\n",
       "      <td>2</td>\n",
       "      <td>TX</td>\n",
       "      <td>48107179.24</td>\n",
       "      <td>10587747.35</td>\n",
       "      <td>25116844.41</td>\n",
       "      <td>365880</td>\n",
       "      <td>4452</td>\n",
       "      <td>False</td>\n",
       "    </tr>\n",
       "    <tr>\n",
       "      <td>2</td>\n",
       "      <td>1</td>\n",
       "      <td>3</td>\n",
       "      <td>TX</td>\n",
       "      <td>64352278.29</td>\n",
       "      <td>10193873.77</td>\n",
       "      <td>33703499.83</td>\n",
       "      <td>365880</td>\n",
       "      <td>4452</td>\n",
       "      <td>False</td>\n",
       "    </tr>\n",
       "    <tr>\n",
       "      <td>3</td>\n",
       "      <td>1</td>\n",
       "      <td>4</td>\n",
       "      <td>TX</td>\n",
       "      <td>45943677.96</td>\n",
       "      <td>8764165.00</td>\n",
       "      <td>24037719.47</td>\n",
       "      <td>365880</td>\n",
       "      <td>4452</td>\n",
       "      <td>False</td>\n",
       "    </tr>\n",
       "    <tr>\n",
       "      <td>4</td>\n",
       "      <td>1</td>\n",
       "      <td>5</td>\n",
       "      <td>TX</td>\n",
       "      <td>32761434.98</td>\n",
       "      <td>8022116.43</td>\n",
       "      <td>16432119.18</td>\n",
       "      <td>365880</td>\n",
       "      <td>4452</td>\n",
       "      <td>False</td>\n",
       "    </tr>\n",
       "    <tr>\n",
       "      <td>...</td>\n",
       "      <td>...</td>\n",
       "      <td>...</td>\n",
       "      <td>...</td>\n",
       "      <td>...</td>\n",
       "      <td>...</td>\n",
       "      <td>...</td>\n",
       "      <td>...</td>\n",
       "      <td>...</td>\n",
       "      <td>...</td>\n",
       "    </tr>\n",
       "    <tr>\n",
       "      <td>3991</td>\n",
       "      <td>333</td>\n",
       "      <td>8</td>\n",
       "      <td>TX</td>\n",
       "      <td>56295415.57</td>\n",
       "      <td>10711406.46</td>\n",
       "      <td>29142010.15</td>\n",
       "      <td>286920</td>\n",
       "      <td>4478</td>\n",
       "      <td>False</td>\n",
       "    </tr>\n",
       "    <tr>\n",
       "      <td>3992</td>\n",
       "      <td>333</td>\n",
       "      <td>9</td>\n",
       "      <td>TX</td>\n",
       "      <td>63512936.32</td>\n",
       "      <td>12675148.57</td>\n",
       "      <td>32346778.80</td>\n",
       "      <td>286920</td>\n",
       "      <td>4478</td>\n",
       "      <td>False</td>\n",
       "    </tr>\n",
       "    <tr>\n",
       "      <td>3993</td>\n",
       "      <td>333</td>\n",
       "      <td>10</td>\n",
       "      <td>TX</td>\n",
       "      <td>54062593.50</td>\n",
       "      <td>9784913.45</td>\n",
       "      <td>28299846.81</td>\n",
       "      <td>286920</td>\n",
       "      <td>4478</td>\n",
       "      <td>False</td>\n",
       "    </tr>\n",
       "    <tr>\n",
       "      <td>3994</td>\n",
       "      <td>333</td>\n",
       "      <td>11</td>\n",
       "      <td>TX</td>\n",
       "      <td>48903414.85</td>\n",
       "      <td>10638082.89</td>\n",
       "      <td>25285040.20</td>\n",
       "      <td>286920</td>\n",
       "      <td>4478</td>\n",
       "      <td>False</td>\n",
       "    </tr>\n",
       "    <tr>\n",
       "      <td>3995</td>\n",
       "      <td>333</td>\n",
       "      <td>12</td>\n",
       "      <td>TX</td>\n",
       "      <td>51545858.60</td>\n",
       "      <td>12015981.35</td>\n",
       "      <td>27876421.94</td>\n",
       "      <td>286920</td>\n",
       "      <td>4478</td>\n",
       "      <td>False</td>\n",
       "    </tr>\n",
       "  </tbody>\n",
       "</table>\n",
       "<p>3996 rows × 9 columns</p>\n",
       "</div>"
      ],
      "text/plain": [
       "      Location number  Month State  Gross revenue   Fixed cost  Variable cost  \\\n",
       "0                   1      1    TX    48628171.02   9218156.69    24278189.23   \n",
       "1                   1      2    TX    48107179.24  10587747.35    25116844.41   \n",
       "2                   1      3    TX    64352278.29  10193873.77    33703499.83   \n",
       "3                   1      4    TX    45943677.96   8764165.00    24037719.47   \n",
       "4                   1      5    TX    32761434.98   8022116.43    16432119.18   \n",
       "...               ...    ...   ...            ...          ...            ...   \n",
       "3991              333      8    TX    56295415.57  10711406.46    29142010.15   \n",
       "3992              333      9    TX    63512936.32  12675148.57    32346778.80   \n",
       "3993              333     10    TX    54062593.50   9784913.45    28299846.81   \n",
       "3994              333     11    TX    48903414.85  10638082.89    25285040.20   \n",
       "3995              333     12    TX    51545858.60  12015981.35    27876421.94   \n",
       "\n",
       "      Rental cost  Number of products  Owned  \n",
       "0          365880                4452  False  \n",
       "1          365880                4452  False  \n",
       "2          365880                4452  False  \n",
       "3          365880                4452  False  \n",
       "4          365880                4452  False  \n",
       "...           ...                 ...    ...  \n",
       "3991       286920                4478  False  \n",
       "3992       286920                4478  False  \n",
       "3993       286920                4478  False  \n",
       "3994       286920                4478  False  \n",
       "3995       286920                4478  False  \n",
       "\n",
       "[3996 rows x 9 columns]"
      ]
     },
     "execution_count": 3,
     "metadata": {},
     "output_type": "execute_result"
    }
   ],
   "source": [
    "retailData"
   ]
  },
  {
   "cell_type": "markdown",
   "metadata": {},
   "source": [
    "# Summary statistics and plots:"
   ]
  },
  {
   "cell_type": "code",
   "execution_count": 4,
   "metadata": {},
   "outputs": [],
   "source": [
    "locations = retailData.groupby(\"Location number\")\n",
    "# grouping by location in order to find individual store profit margins"
   ]
  },
  {
   "cell_type": "code",
   "execution_count": 5,
   "metadata": {},
   "outputs": [],
   "source": [
    "annualProfMargs = (locations[\"Gross revenue\"].sum()\\\n",
    "                      -locations[\"Fixed cost\"].sum()\\\n",
    "                      -locations[\"Rental cost\"].sum()\\\n",
    "                      -locations[\"Variable cost\"].sum())\\\n",
    "/locations[\"Gross revenue\"].sum()\n",
    "# calculating individual store profit margins"
   ]
  },
  {
   "cell_type": "code",
   "execution_count": 6,
   "metadata": {},
   "outputs": [
    {
     "data": {
      "text/plain": [
       "0.24863229256707506"
      ]
     },
     "execution_count": 6,
     "metadata": {},
     "output_type": "execute_result"
    }
   ],
   "source": [
    "annualProfMargs.mean()"
   ]
  },
  {
   "cell_type": "code",
   "execution_count": 7,
   "metadata": {},
   "outputs": [
    {
     "data": {
      "text/plain": [
       "0.26184928404393765"
      ]
     },
     "execution_count": 7,
     "metadata": {},
     "output_type": "execute_result"
    }
   ],
   "source": [
    "annualProfMargs.median()"
   ]
  },
  {
   "cell_type": "markdown",
   "metadata": {},
   "source": [
    "#### First here is the mean and median annual profit margins of the stores using the raw data. A greater median than mean suggests a left skew of the data."
   ]
  },
  {
   "cell_type": "code",
   "execution_count": 8,
   "metadata": {},
   "outputs": [
    {
     "data": {
      "text/plain": [
       "Text(0, 0.5, 'Amount of Stores')"
      ]
     },
     "execution_count": 8,
     "metadata": {},
     "output_type": "execute_result"
    },
    {
     "data": {
      "image/png": "[encoded data removed]",
      "text/plain": [
       "<Figure size 432x288 with 1 Axes>"
      ]
     },
     "metadata": {
      "needs_background": "light"
     },
     "output_type": "display_data"
    }
   ],
   "source": [
    "plt.hist(annualProfMargs,33)\n",
    "plt.title(\"Profit Margin of All Stores\")\n",
    "plt.xlabel(\"Profit Margin\")\n",
    "plt.ylabel(\"Amount of Stores\")"
   ]
  },
  {
   "cell_type": "markdown",
   "metadata": {},
   "source": [
    "#### The profit margins accross all stores does appear roughly normally distributed with a slight left skew."
   ]
  },
  {
   "cell_type": "code",
   "execution_count": 9,
   "metadata": {},
   "outputs": [
    {
     "data": {
      "text/plain": [
       "[9304129223.880001,\n",
       " 9786842932.476,\n",
       " 11587361200.937,\n",
       " 9105208425.569,\n",
       " 9347461485.046001,\n",
       " 11297643513.466,\n",
       " 9005478090.084,\n",
       " 9625942279.996,\n",
       " 11249652068.208,\n",
       " 9413548683.985,\n",
       " 8983799310.004002,\n",
       " 11539819130.646]"
      ]
     },
     "execution_count": 9,
     "metadata": {},
     "output_type": "execute_result"
    },
    {
     "data": {
      "image/png": "[encoded data removed]",
      "text/plain": [
       "<Figure size 432x288 with 1 Axes>"
      ]
     },
     "metadata": {
      "needs_background": "light"
     },
     "output_type": "display_data"
    }
   ],
   "source": [
    "monthRev = []\n",
    "for i in range(1,13):\n",
    "    monthRev.append(retailData[retailData[\"Month\"]==i][\"Gross revenue\"].sum())\n",
    "    # summing all revenue by months\n",
    "monthRev\n",
    "plt.xticks(range(1,13))\n",
    "plt.bar(range(1,13),monthRev)\n",
    "plt.title(\"Monthly Aggregate Revenue\")\n",
    "plt.xlabel(\"Month\")\n",
    "plt.ylabel(\"Revenue\")\n",
    "\n",
    "monthRev"
   ]
  },
  {
   "cell_type": "markdown",
   "metadata": {},
   "source": [
    "#### This is the monthly aggregate revenue accross all stores. There seems to be a quarterly pattern except in the last quarter where revenue goes down between October and November."
   ]
  },
  {
   "cell_type": "code",
   "execution_count": 10,
   "metadata": {},
   "outputs": [
    {
     "data": {
      "text/plain": [
       "Text(0, 0.5, 'Revenue')"
      ]
     },
     "execution_count": 10,
     "metadata": {},
     "output_type": "execute_result"
    },
    {
     "data": {
      "image/png": "[encoded data removed]",
      "text/plain": [
       "<Figure size 432x288 with 1 Axes>"
      ]
     },
     "metadata": {
      "needs_background": "light"
     },
     "output_type": "display_data"
    }
   ],
   "source": [
    "quarterRev = [sum(monthRev[1:4]),sum(monthRev[4:7]),\\\n",
    "              sum(monthRev[7:10]),sum(monthRev[10:13])] #aggregating quarter sums\n",
    "plt.bar(range(1,5),quarterRev)\n",
    "plt.xticks(range(1,5))\n",
    "plt.title(\"Quarterly Aggregate Revenue\")\n",
    "plt.xlabel(\"Quarter\")\n",
    "plt.ylabel(\"Revenue\")"
   ]
  },
  {
   "cell_type": "markdown",
   "metadata": {},
   "source": [
    "#### In the quarterly aggregate revenue the drop in revenue in the 4th quarter is evident."
   ]
  },
  {
   "cell_type": "markdown",
   "metadata": {},
   "source": [
    "# Cleaning the data:"
   ]
  },
  {
   "cell_type": "code",
   "execution_count": 11,
   "metadata": {},
   "outputs": [
    {
     "data": {
      "text/plain": [
       "0"
      ]
     },
     "execution_count": 11,
     "metadata": {},
     "output_type": "execute_result"
    }
   ],
   "source": [
    "retailData[\"Rental cost\"][103]"
   ]
  },
  {
   "cell_type": "markdown",
   "metadata": {},
   "source": [
    "#### Since some stores are owned and have a rental cost of 0, a mean calculated by state imputation method will be used to clean the data."
   ]
  },
  {
   "cell_type": "code",
   "execution_count": 12,
   "metadata": {},
   "outputs": [
    {
     "data": {
      "text/plain": [
       "nan"
      ]
     },
     "execution_count": 12,
     "metadata": {},
     "output_type": "execute_result"
    }
   ],
   "source": [
    "retailData[\"Rental cost\"].replace(0,np.nan,inplace=True)\n",
    "#replacing 0's with nan's for true rental mean calculation\n",
    "retailData[\"Rental cost\"][103]"
   ]
  },
  {
   "cell_type": "code",
   "execution_count": 13,
   "metadata": {},
   "outputs": [],
   "source": [
    "states = set(list(retailData[\"State\"]))"
   ]
  },
  {
   "cell_type": "code",
   "execution_count": 14,
   "metadata": {},
   "outputs": [],
   "source": [
    "means = []\n",
    "for state in states:\n",
    "    means.append(retailData[retailData[\"State\"]==state][\"Rental cost\"].mean())\n",
    "    #calculating means by state"
   ]
  },
  {
   "cell_type": "code",
   "execution_count": 15,
   "metadata": {},
   "outputs": [
    {
     "data": {
      "text/plain": [
       "{'WA': 165574.61538461538,\n",
       " 'TX': 178770.88888888888,\n",
       " 'CA': 162564.0,\n",
       " 'CO': 159454.61538461538,\n",
       " 'GA': 152734.0,\n",
       " 'NJ': 165716.2068965517,\n",
       " 'IL': 159050.0}"
      ]
     },
     "execution_count": 15,
     "metadata": {},
     "output_type": "execute_result"
    }
   ],
   "source": [
    "stateMeans = dict(zip(states,means))\n",
    "stateMeans"
   ]
  },
  {
   "cell_type": "code",
   "execution_count": 16,
   "metadata": {},
   "outputs": [],
   "source": [
    "retailData[\"Rental cost\"] = retailData[\"Rental cost\"]\\\n",
    ".fillna(retailData[\"State\"].map(stateMeans))\n",
    "#filling nan's with respective state rental average"
   ]
  },
  {
   "cell_type": "code",
   "execution_count": 17,
   "metadata": {
    "scrolled": true
   },
   "outputs": [
    {
     "data": {
      "text/plain": [
       "162564.0"
      ]
     },
     "execution_count": 17,
     "metadata": {},
     "output_type": "execute_result"
    }
   ],
   "source": [
    "retailData[\"Rental cost\"][103] #checking that nan's were replaced"
   ]
  },
  {
   "cell_type": "code",
   "execution_count": 18,
   "metadata": {},
   "outputs": [],
   "source": [
    "adjustedLocations = retailData.groupby(\"Location number\")\n",
    "# again grouping by location in order to find individual store profit margins"
   ]
  },
  {
   "cell_type": "code",
   "execution_count": 19,
   "metadata": {},
   "outputs": [],
   "source": [
    "adjustedStoreProfMargs = (adjustedLocations[\"Gross revenue\"].sum()\\\n",
    "                      -adjustedLocations[\"Fixed cost\"].sum()\\\n",
    "                      -adjustedLocations[\"Rental cost\"].sum()\\\n",
    "                      -adjustedLocations[\"Variable cost\"].sum())\\\n",
    "/adjustedLocations[\"Gross revenue\"].sum()\n"
   ]
  },
  {
   "cell_type": "code",
   "execution_count": 20,
   "metadata": {},
   "outputs": [
    {
     "data": {
      "text/plain": [
       "0.24809132114362276"
      ]
     },
     "execution_count": 20,
     "metadata": {},
     "output_type": "execute_result"
    }
   ],
   "source": [
    "adjustedStoreProfMargs.mean()"
   ]
  },
  {
   "cell_type": "code",
   "execution_count": 21,
   "metadata": {},
   "outputs": [
    {
     "data": {
      "text/plain": [
       "0.26018312192896237"
      ]
     },
     "execution_count": 21,
     "metadata": {},
     "output_type": "execute_result"
    }
   ],
   "source": [
    "adjustedStoreProfMargs.median()"
   ]
  },
  {
   "cell_type": "markdown",
   "metadata": {},
   "source": [
    "#### Here are the recalculated rent-adjusted profit margin mean and medians"
   ]
  },
  {
   "cell_type": "markdown",
   "metadata": {},
   "source": [
    "# Quantifying drivers of success:"
   ]
  },
  {
   "cell_type": "code",
   "execution_count": 22,
   "metadata": {},
   "outputs": [
    {
     "data": {
      "text/plain": [
       "Text(0, 0.5, 'Profit Margin')"
      ]
     },
     "execution_count": 22,
     "metadata": {},
     "output_type": "execute_result"
    },
    {
     "data": {
      "image/png": "[encoded data removed]",
      "text/plain": [
       "<Figure size 432x288 with 1 Axes>"
      ]
     },
     "metadata": {
      "needs_background": "light"
     },
     "output_type": "display_data"
    }
   ],
   "source": [
    "plt.scatter((retailData[retailData[\"Month\"]==1][\"Number of products\"]),\\\n",
    "            adjustedStoreProfMargs)\n",
    "plt.title(\"Profit Margin by Products\")\n",
    "plt.xlabel(\"Products\")\n",
    "plt.ylabel(\"Profit Margin\")"
   ]
  },
  {
   "cell_type": "markdown",
   "metadata": {},
   "source": [
    "#### A simple visualization of profit margin and number of products show that there is a positive correlation, but did not lead to much more analysis."
   ]
  },
  {
   "cell_type": "code",
   "execution_count": 23,
   "metadata": {},
   "outputs": [
    {
     "data": {
      "text/plain": [
       "Text(0.5, 0, '')"
      ]
     },
     "execution_count": 23,
     "metadata": {},
     "output_type": "execute_result"
    },
    {
     "data": {
      "image/png": "[encoded data removed]",
      "text/plain": [
       "<Figure size 432x288 with 1 Axes>"
      ]
     },
     "metadata": {
      "needs_background": "light"
     },
     "output_type": "display_data"
    }
   ],
   "source": [
    "stateProfMargins = pd.DataFrame(adjustedStoreProfMargs)\n",
    "stateProfMargins[\"State\"] = list(retailData[retailData[\"Month\"]==1][\"State\"])\n",
    "\n",
    "stateProfMargins.boxplot(by=\"State\")\n",
    "plt.ylabel(\"Profit Margin\")\n",
    "plt.xlabel(\"\")"
   ]
  },
  {
   "cell_type": "code",
   "execution_count": 24,
   "metadata": {},
   "outputs": [
    {
     "data": {
      "text/html": [
       "<div>\n",
       "<style scoped>\n",
       "    .dataframe tbody tr th:only-of-type {\n",
       "        vertical-align: middle;\n",
       "    }\n",
       "\n",
       "    .dataframe tbody tr th {\n",
       "        vertical-align: top;\n",
       "    }\n",
       "\n",
       "    .dataframe thead tr th {\n",
       "        text-align: left;\n",
       "    }\n",
       "\n",
       "    .dataframe thead tr:last-of-type th {\n",
       "        text-align: right;\n",
       "    }\n",
       "</style>\n",
       "<table border=\"1\" class=\"dataframe\">\n",
       "  <thead>\n",
       "    <tr>\n",
       "      <th></th>\n",
       "      <th colspan=\"8\" halign=\"left\">0</th>\n",
       "    </tr>\n",
       "    <tr>\n",
       "      <th></th>\n",
       "      <th>count</th>\n",
       "      <th>mean</th>\n",
       "      <th>std</th>\n",
       "      <th>min</th>\n",
       "      <th>25%</th>\n",
       "      <th>50%</th>\n",
       "      <th>75%</th>\n",
       "      <th>max</th>\n",
       "    </tr>\n",
       "    <tr>\n",
       "      <th>State</th>\n",
       "      <th></th>\n",
       "      <th></th>\n",
       "      <th></th>\n",
       "      <th></th>\n",
       "      <th></th>\n",
       "      <th></th>\n",
       "      <th></th>\n",
       "      <th></th>\n",
       "    </tr>\n",
       "  </thead>\n",
       "  <tbody>\n",
       "    <tr>\n",
       "      <td>CA</td>\n",
       "      <td>63.0</td>\n",
       "      <td>0.259021</td>\n",
       "      <td>0.057043</td>\n",
       "      <td>0.044470</td>\n",
       "      <td>0.226053</td>\n",
       "      <td>0.264592</td>\n",
       "      <td>0.296621</td>\n",
       "      <td>0.359975</td>\n",
       "    </tr>\n",
       "    <tr>\n",
       "      <td>CO</td>\n",
       "      <td>15.0</td>\n",
       "      <td>0.254362</td>\n",
       "      <td>0.052803</td>\n",
       "      <td>0.173336</td>\n",
       "      <td>0.210945</td>\n",
       "      <td>0.263814</td>\n",
       "      <td>0.292018</td>\n",
       "      <td>0.318022</td>\n",
       "    </tr>\n",
       "    <tr>\n",
       "      <td>GA</td>\n",
       "      <td>54.0</td>\n",
       "      <td>0.205485</td>\n",
       "      <td>0.054653</td>\n",
       "      <td>0.088220</td>\n",
       "      <td>0.167560</td>\n",
       "      <td>0.209918</td>\n",
       "      <td>0.241727</td>\n",
       "      <td>0.305915</td>\n",
       "    </tr>\n",
       "    <tr>\n",
       "      <td>IL</td>\n",
       "      <td>54.0</td>\n",
       "      <td>0.250199</td>\n",
       "      <td>0.052907</td>\n",
       "      <td>0.114035</td>\n",
       "      <td>0.224487</td>\n",
       "      <td>0.263889</td>\n",
       "      <td>0.286041</td>\n",
       "      <td>0.332769</td>\n",
       "    </tr>\n",
       "    <tr>\n",
       "      <td>NJ</td>\n",
       "      <td>32.0</td>\n",
       "      <td>0.194671</td>\n",
       "      <td>0.054796</td>\n",
       "      <td>0.068526</td>\n",
       "      <td>0.169315</td>\n",
       "      <td>0.198945</td>\n",
       "      <td>0.238131</td>\n",
       "      <td>0.291965</td>\n",
       "    </tr>\n",
       "    <tr>\n",
       "      <td>TX</td>\n",
       "      <td>101.0</td>\n",
       "      <td>0.278463</td>\n",
       "      <td>0.047826</td>\n",
       "      <td>0.123880</td>\n",
       "      <td>0.256788</td>\n",
       "      <td>0.288006</td>\n",
       "      <td>0.308521</td>\n",
       "      <td>0.367030</td>\n",
       "    </tr>\n",
       "    <tr>\n",
       "      <td>WA</td>\n",
       "      <td>14.0</td>\n",
       "      <td>0.251392</td>\n",
       "      <td>0.097852</td>\n",
       "      <td>-0.010842</td>\n",
       "      <td>0.228728</td>\n",
       "      <td>0.261054</td>\n",
       "      <td>0.312129</td>\n",
       "      <td>0.402023</td>\n",
       "    </tr>\n",
       "  </tbody>\n",
       "</table>\n",
       "</div>"
      ],
      "text/plain": [
       "           0                                                              \\\n",
       "       count      mean       std       min       25%       50%       75%   \n",
       "State                                                                      \n",
       "CA      63.0  0.259021  0.057043  0.044470  0.226053  0.264592  0.296621   \n",
       "CO      15.0  0.254362  0.052803  0.173336  0.210945  0.263814  0.292018   \n",
       "GA      54.0  0.205485  0.054653  0.088220  0.167560  0.209918  0.241727   \n",
       "IL      54.0  0.250199  0.052907  0.114035  0.224487  0.263889  0.286041   \n",
       "NJ      32.0  0.194671  0.054796  0.068526  0.169315  0.198945  0.238131   \n",
       "TX     101.0  0.278463  0.047826  0.123880  0.256788  0.288006  0.308521   \n",
       "WA      14.0  0.251392  0.097852 -0.010842  0.228728  0.261054  0.312129   \n",
       "\n",
       "                 \n",
       "            max  \n",
       "State            \n",
       "CA     0.359975  \n",
       "CO     0.318022  \n",
       "GA     0.305915  \n",
       "IL     0.332769  \n",
       "NJ     0.291965  \n",
       "TX     0.367030  \n",
       "WA     0.402023  "
      ]
     },
     "execution_count": 24,
     "metadata": {},
     "output_type": "execute_result"
    }
   ],
   "source": [
    "(stateProfMargins.groupby(\"State\")).describe()"
   ]
  },
  {
   "cell_type": "markdown",
   "metadata": {},
   "source": [
    "#### Boxplots help visualize which states have better profit margins and outliers as well as looking at the summary statistics."
   ]
  },
  {
   "cell_type": "code",
   "execution_count": 25,
   "metadata": {},
   "outputs": [],
   "source": [
    "profMargs = pd.DataFrame(adjustedStoreProfMargs)"
   ]
  },
  {
   "cell_type": "code",
   "execution_count": 26,
   "metadata": {},
   "outputs": [
    {
     "data": {
      "text/html": [
       "<div>\n",
       "<style scoped>\n",
       "    .dataframe tbody tr th:only-of-type {\n",
       "        vertical-align: middle;\n",
       "    }\n",
       "\n",
       "    .dataframe tbody tr th {\n",
       "        vertical-align: top;\n",
       "    }\n",
       "\n",
       "    .dataframe thead th {\n",
       "        text-align: right;\n",
       "    }\n",
       "</style>\n",
       "<table border=\"1\" class=\"dataframe\">\n",
       "  <thead>\n",
       "    <tr style=\"text-align: right;\">\n",
       "      <th></th>\n",
       "      <th>0</th>\n",
       "    </tr>\n",
       "    <tr>\n",
       "      <th>Location number</th>\n",
       "      <th></th>\n",
       "    </tr>\n",
       "  </thead>\n",
       "  <tbody>\n",
       "    <tr>\n",
       "      <td>198</td>\n",
       "      <td>0.402023</td>\n",
       "    </tr>\n",
       "    <tr>\n",
       "      <td>233</td>\n",
       "      <td>0.367030</td>\n",
       "    </tr>\n",
       "    <tr>\n",
       "      <td>118</td>\n",
       "      <td>0.361596</td>\n",
       "    </tr>\n",
       "    <tr>\n",
       "      <td>9</td>\n",
       "      <td>0.359975</td>\n",
       "    </tr>\n",
       "    <tr>\n",
       "      <td>271</td>\n",
       "      <td>0.350652</td>\n",
       "    </tr>\n",
       "    <tr>\n",
       "      <td>...</td>\n",
       "      <td>...</td>\n",
       "    </tr>\n",
       "    <tr>\n",
       "      <td>111</td>\n",
       "      <td>0.088220</td>\n",
       "    </tr>\n",
       "    <tr>\n",
       "      <td>288</td>\n",
       "      <td>0.080338</td>\n",
       "    </tr>\n",
       "    <tr>\n",
       "      <td>126</td>\n",
       "      <td>0.068526</td>\n",
       "    </tr>\n",
       "    <tr>\n",
       "      <td>313</td>\n",
       "      <td>0.044470</td>\n",
       "    </tr>\n",
       "    <tr>\n",
       "      <td>157</td>\n",
       "      <td>-0.010842</td>\n",
       "    </tr>\n",
       "  </tbody>\n",
       "</table>\n",
       "<p>333 rows × 1 columns</p>\n",
       "</div>"
      ],
      "text/plain": [
       "                        0\n",
       "Location number          \n",
       "198              0.402023\n",
       "233              0.367030\n",
       "118              0.361596\n",
       "9                0.359975\n",
       "271              0.350652\n",
       "...                   ...\n",
       "111              0.088220\n",
       "288              0.080338\n",
       "126              0.068526\n",
       "313              0.044470\n",
       "157             -0.010842\n",
       "\n",
       "[333 rows x 1 columns]"
      ]
     },
     "execution_count": 26,
     "metadata": {},
     "output_type": "execute_result"
    }
   ],
   "source": [
    "profMargs.sort_values(0, ascending = False)"
   ]
  },
  {
   "cell_type": "markdown",
   "metadata": {},
   "source": [
    "#### Next, here are the locations sorted by profit margin in order to compare the best and the worst store's expenses. Since it was clear revenue dropped in the 4th quarter an analysis of the cost breakdown of the top and bottom store throughout quarters was done."
   ]
  },
  {
   "cell_type": "code",
   "execution_count": 27,
   "metadata": {},
   "outputs": [
    {
     "data": {
      "text/html": [
       "<div>\n",
       "<style scoped>\n",
       "    .dataframe tbody tr th:only-of-type {\n",
       "        vertical-align: middle;\n",
       "    }\n",
       "\n",
       "    .dataframe tbody tr th {\n",
       "        vertical-align: top;\n",
       "    }\n",
       "\n",
       "    .dataframe thead th {\n",
       "        text-align: right;\n",
       "    }\n",
       "</style>\n",
       "<table border=\"1\" class=\"dataframe\">\n",
       "  <thead>\n",
       "    <tr style=\"text-align: right;\">\n",
       "      <th></th>\n",
       "      <th>Location number</th>\n",
       "      <th>Month</th>\n",
       "      <th>State</th>\n",
       "      <th>Gross revenue</th>\n",
       "      <th>Fixed cost</th>\n",
       "      <th>Variable cost</th>\n",
       "      <th>Rental cost</th>\n",
       "      <th>Number of products</th>\n",
       "      <th>Owned</th>\n",
       "    </tr>\n",
       "  </thead>\n",
       "  <tbody>\n",
       "    <tr>\n",
       "      <td>2364</td>\n",
       "      <td>198</td>\n",
       "      <td>1</td>\n",
       "      <td>WA</td>\n",
       "      <td>18802946.30</td>\n",
       "      <td>4162175.29</td>\n",
       "      <td>9283934.01</td>\n",
       "      <td>180920.0</td>\n",
       "      <td>4694</td>\n",
       "      <td>False</td>\n",
       "    </tr>\n",
       "    <tr>\n",
       "      <td>2365</td>\n",
       "      <td>198</td>\n",
       "      <td>2</td>\n",
       "      <td>WA</td>\n",
       "      <td>17623557.43</td>\n",
       "      <td>4693759.00</td>\n",
       "      <td>8789028.55</td>\n",
       "      <td>180920.0</td>\n",
       "      <td>4694</td>\n",
       "      <td>False</td>\n",
       "    </tr>\n",
       "    <tr>\n",
       "      <td>2366</td>\n",
       "      <td>198</td>\n",
       "      <td>3</td>\n",
       "      <td>WA</td>\n",
       "      <td>19545446.97</td>\n",
       "      <td>4814755.71</td>\n",
       "      <td>9235640.01</td>\n",
       "      <td>180920.0</td>\n",
       "      <td>4694</td>\n",
       "      <td>False</td>\n",
       "    </tr>\n",
       "    <tr>\n",
       "      <td>2367</td>\n",
       "      <td>198</td>\n",
       "      <td>4</td>\n",
       "      <td>WA</td>\n",
       "      <td>17564996.58</td>\n",
       "      <td>3878221.72</td>\n",
       "      <td>9281113.88</td>\n",
       "      <td>180920.0</td>\n",
       "      <td>4694</td>\n",
       "      <td>False</td>\n",
       "    </tr>\n",
       "    <tr>\n",
       "      <td>2368</td>\n",
       "      <td>198</td>\n",
       "      <td>5</td>\n",
       "      <td>WA</td>\n",
       "      <td>14543902.75</td>\n",
       "      <td>3439749.07</td>\n",
       "      <td>7299293.49</td>\n",
       "      <td>180920.0</td>\n",
       "      <td>4694</td>\n",
       "      <td>False</td>\n",
       "    </tr>\n",
       "    <tr>\n",
       "      <td>2369</td>\n",
       "      <td>198</td>\n",
       "      <td>6</td>\n",
       "      <td>WA</td>\n",
       "      <td>16364383.15</td>\n",
       "      <td>4738800.79</td>\n",
       "      <td>8158277.37</td>\n",
       "      <td>180920.0</td>\n",
       "      <td>4694</td>\n",
       "      <td>False</td>\n",
       "    </tr>\n",
       "    <tr>\n",
       "      <td>2370</td>\n",
       "      <td>198</td>\n",
       "      <td>7</td>\n",
       "      <td>WA</td>\n",
       "      <td>29543244.07</td>\n",
       "      <td>4539250.46</td>\n",
       "      <td>6555242.51</td>\n",
       "      <td>180920.0</td>\n",
       "      <td>4694</td>\n",
       "      <td>False</td>\n",
       "    </tr>\n",
       "    <tr>\n",
       "      <td>2371</td>\n",
       "      <td>198</td>\n",
       "      <td>8</td>\n",
       "      <td>WA</td>\n",
       "      <td>31058442.45</td>\n",
       "      <td>4883629.12</td>\n",
       "      <td>7538673.30</td>\n",
       "      <td>180920.0</td>\n",
       "      <td>4694</td>\n",
       "      <td>False</td>\n",
       "    </tr>\n",
       "    <tr>\n",
       "      <td>2372</td>\n",
       "      <td>198</td>\n",
       "      <td>9</td>\n",
       "      <td>WA</td>\n",
       "      <td>38145094.11</td>\n",
       "      <td>5232967.58</td>\n",
       "      <td>12822486.06</td>\n",
       "      <td>180920.0</td>\n",
       "      <td>4694</td>\n",
       "      <td>False</td>\n",
       "    </tr>\n",
       "    <tr>\n",
       "      <td>2373</td>\n",
       "      <td>198</td>\n",
       "      <td>10</td>\n",
       "      <td>WA</td>\n",
       "      <td>24510185.72</td>\n",
       "      <td>4159488.66</td>\n",
       "      <td>8787309.72</td>\n",
       "      <td>180920.0</td>\n",
       "      <td>4694</td>\n",
       "      <td>False</td>\n",
       "    </tr>\n",
       "    <tr>\n",
       "      <td>2374</td>\n",
       "      <td>198</td>\n",
       "      <td>11</td>\n",
       "      <td>WA</td>\n",
       "      <td>20384258.22</td>\n",
       "      <td>5421765.31</td>\n",
       "      <td>8342475.37</td>\n",
       "      <td>180920.0</td>\n",
       "      <td>4694</td>\n",
       "      <td>False</td>\n",
       "    </tr>\n",
       "    <tr>\n",
       "      <td>2375</td>\n",
       "      <td>198</td>\n",
       "      <td>12</td>\n",
       "      <td>WA</td>\n",
       "      <td>21894597.59</td>\n",
       "      <td>3442457.90</td>\n",
       "      <td>9770950.59</td>\n",
       "      <td>180920.0</td>\n",
       "      <td>4694</td>\n",
       "      <td>False</td>\n",
       "    </tr>\n",
       "  </tbody>\n",
       "</table>\n",
       "</div>"
      ],
      "text/plain": [
       "      Location number  Month State  Gross revenue  Fixed cost  Variable cost  \\\n",
       "2364              198      1    WA    18802946.30  4162175.29     9283934.01   \n",
       "2365              198      2    WA    17623557.43  4693759.00     8789028.55   \n",
       "2366              198      3    WA    19545446.97  4814755.71     9235640.01   \n",
       "2367              198      4    WA    17564996.58  3878221.72     9281113.88   \n",
       "2368              198      5    WA    14543902.75  3439749.07     7299293.49   \n",
       "2369              198      6    WA    16364383.15  4738800.79     8158277.37   \n",
       "2370              198      7    WA    29543244.07  4539250.46     6555242.51   \n",
       "2371              198      8    WA    31058442.45  4883629.12     7538673.30   \n",
       "2372              198      9    WA    38145094.11  5232967.58    12822486.06   \n",
       "2373              198     10    WA    24510185.72  4159488.66     8787309.72   \n",
       "2374              198     11    WA    20384258.22  5421765.31     8342475.37   \n",
       "2375              198     12    WA    21894597.59  3442457.90     9770950.59   \n",
       "\n",
       "      Rental cost  Number of products  Owned  \n",
       "2364     180920.0                4694  False  \n",
       "2365     180920.0                4694  False  \n",
       "2366     180920.0                4694  False  \n",
       "2367     180920.0                4694  False  \n",
       "2368     180920.0                4694  False  \n",
       "2369     180920.0                4694  False  \n",
       "2370     180920.0                4694  False  \n",
       "2371     180920.0                4694  False  \n",
       "2372     180920.0                4694  False  \n",
       "2373     180920.0                4694  False  \n",
       "2374     180920.0                4694  False  \n",
       "2375     180920.0                4694  False  "
      ]
     },
     "execution_count": 27,
     "metadata": {},
     "output_type": "execute_result"
    }
   ],
   "source": [
    "retailData.loc[retailData[\"Location number\"]==198]"
   ]
  },
  {
   "cell_type": "code",
   "execution_count": 28,
   "metadata": {},
   "outputs": [],
   "source": [
    "store = retailData.loc[retailData[\"Location number\"]==198]\n",
    "fixed = store[\"Fixed cost\"]\n",
    "variable = store[\"Variable cost\"]\n",
    "rental = store[\"Rental cost\"]"
   ]
  },
  {
   "cell_type": "code",
   "execution_count": 29,
   "metadata": {},
   "outputs": [
    {
     "data": {
      "image/png": "[encoded data removed]",
      "text/plain": [
       "<Figure size 1008x360 with 4 Axes>"
      ]
     },
     "metadata": {},
     "output_type": "display_data"
    },
    {
     "data": {
      "text/plain": [
       "<Figure size 432x288 with 0 Axes>"
      ]
     },
     "metadata": {},
     "output_type": "display_data"
    }
   ],
   "source": [
    "fig1, axs = plt.subplots(1,4, figsize=(14,5))\n",
    "\n",
    "axs[0].pie([fixed[1:4].mean(), variable[1:4].mean(), rental[1:4].mean()], labels = [\"Fixed cost\", \"Variable cost\", \"Rental cost\"], autopct='%1.1f%%',\n",
    "        shadow=True, startangle=90)\n",
    "axs[0].axis('equal')\n",
    "axs[0].set_title('Top Store Quarter 1')\n",
    "\n",
    "axs[1].pie([fixed[4:7].mean(), variable[4:7].mean(), rental[4:7].mean()], labels = [\"Fixed cost\", \"Variable cost\", \"Rental cost\"], autopct='%1.1f%%',\n",
    "        shadow=True, startangle=90)\n",
    "axs[1].axis('equal')\n",
    "axs[1].set_title('Top Store Quarter 2')\n",
    "\n",
    "axs[2].pie([fixed[7:10].mean(), variable[7:10].mean(), rental[7:10].mean()], labels = [\"Fixed cost\", \"Variable cost\", \"Rental cost\"], autopct='%1.1f%%',\n",
    "        shadow=True, startangle=90)\n",
    "axs[2].axis('equal')\n",
    "axs[2].set_title('Top Store Quarter 3')\n",
    "\n",
    "axs[3].pie([fixed[10:13].mean(), variable[10:13].mean(), rental[10:13].mean()], labels = [\"Fixed cost\", \"Variable cost\", \"Rental cost\"], autopct='%1.1f%%',\n",
    "        shadow=True, startangle=90)\n",
    "axs[3].axis('equal')\n",
    "axs[3].set_title('Top Store Quarter 4')\n",
    "\n",
    "plt.figure(2)\n",
    "plt.show()"
   ]
  },
  {
   "cell_type": "markdown",
   "metadata": {},
   "source": [
    "#### The top store maintains a pretty consistent cost breakdown across all quarters"
   ]
  },
  {
   "cell_type": "code",
   "execution_count": 30,
   "metadata": {},
   "outputs": [],
   "source": [
    "store = retailData.loc[retailData[\"Location number\"]==157]\n",
    "fixed = store[\"Fixed cost\"]\n",
    "variable = store[\"Variable cost\"]\n",
    "rental = store[\"Rental cost\"]"
   ]
  },
  {
   "cell_type": "code",
   "execution_count": 31,
   "metadata": {},
   "outputs": [
    {
     "data": {
      "image/png": "[encoded data removed]",
      "text/plain": [
       "<Figure size 1008x360 with 4 Axes>"
      ]
     },
     "metadata": {},
     "output_type": "display_data"
    },
    {
     "data": {
      "text/plain": [
       "<Figure size 432x288 with 0 Axes>"
      ]
     },
     "metadata": {},
     "output_type": "display_data"
    }
   ],
   "source": [
    "fig1, axs = plt.subplots(1,4, figsize=(14,5))\n",
    "\n",
    "axs[0].pie([fixed[1:4].mean(), variable[1:4].mean(), rental[1:4].mean()], labels = [\"Fixed cost\", \"Variable cost\", \"Rental cost\"], autopct='%1.1f%%',\n",
    "        shadow=True, startangle=90)\n",
    "axs[0].axis('equal')\n",
    "axs[0].set_title('Bottom Store Quarter 1')\n",
    "\n",
    "axs[1].pie([fixed[4:7].mean(), variable[4:7].mean(), rental[4:7].mean()], labels = [\"Fixed cost\", \"Variable cost\", \"Rental cost\"], autopct='%1.1f%%',\n",
    "        shadow=True, startangle=90)\n",
    "axs[1].axis('equal')\n",
    "axs[1].set_title('Bottom Store Quarter 2')\n",
    "\n",
    "axs[2].pie([fixed[7:10].mean(), variable[7:10].mean(), rental[7:10].mean()], labels = [\"Fixed cost\", \"Variable cost\", \"Rental cost\"], autopct='%1.1f%%',\n",
    "        shadow=True, startangle=90)\n",
    "axs[2].axis('equal')\n",
    "axs[2].set_title('Bottom Store Quarter 3')\n",
    "\n",
    "axs[3].pie([fixed[10:13].mean(), variable[10:13].mean(), rental[10:13].mean()], labels = [\"Fixed cost\", \"Variable cost\", \"Rental cost\"], autopct='%1.1f%%',\n",
    "        shadow=True, startangle=90)\n",
    "axs[3].axis('equal')\n",
    "axs[3].set_title('Bottom Store Quarter 4')\n",
    "\n",
    "plt.figure(2)\n",
    "plt.show()"
   ]
  },
  {
   "cell_type": "markdown",
   "metadata": {},
   "source": [
    "#### Whereas the bottom store has more of a varied cost breakdown across quarters with a clear larger percent in variable costs in the last quarter."
   ]
  },
  {
   "cell_type": "code",
   "execution_count": 32,
   "metadata": {},
   "outputs": [],
   "source": [
    "lowestStore = retailData.loc[retailData[\"Location number\"]==157]"
   ]
  },
  {
   "cell_type": "code",
   "execution_count": 33,
   "metadata": {},
   "outputs": [
    {
     "data": {
      "text/plain": [
       "<matplotlib.legend.Legend at 0x11f1a9d90>"
      ]
     },
     "execution_count": 33,
     "metadata": {},
     "output_type": "execute_result"
    },
    {
     "data": {
      "image/png": "[encoded data removed]",
      "text/plain": [
       "<Figure size 432x288 with 1 Axes>"
      ]
     },
     "metadata": {
      "needs_background": "light"
     },
     "output_type": "display_data"
    }
   ],
   "source": [
    "plt.plot('Month','Fixed cost', data = lowestStore)\n",
    "plt.plot('Month','Variable cost', data = lowestStore)\n",
    "plt.xticks(range(1,13))\n",
    "plt.title(\"Monthly Costs for Lowest Profit Margin Location (157)\")\n",
    "plt.xlabel(\"Month\")\n",
    "plt.ylabel(\"Cost\")\n",
    "plt.legend()"
   ]
  },
  {
   "cell_type": "code",
   "execution_count": 34,
   "metadata": {},
   "outputs": [
    {
     "data": {
      "text/plain": [
       "<matplotlib.legend.Legend at 0x11f1b24d0>"
      ]
     },
     "execution_count": 34,
     "metadata": {},
     "output_type": "execute_result"
    },
    {
     "data": {
      "image/png": "[encoded data removed]",
      "text/plain": [
       "<Figure size 432x288 with 1 Axes>"
      ]
     },
     "metadata": {
      "needs_background": "light"
     },
     "output_type": "display_data"
    }
   ],
   "source": [
    "topStore = retailData.loc[retailData[\"Location number\"]==198]\n",
    "plt.plot('Month','Fixed cost', data = topStore)\n",
    "plt.plot('Month','Variable cost', data = topStore)\n",
    "plt.xticks(range(1,13))\n",
    "plt.title(\"Monthly Costs for Highest Profit Margin Location (198)\")\n",
    "plt.xlabel(\"Month\")\n",
    "plt.ylabel(\"Cost\")\n",
    "plt.legend()"
   ]
  },
  {
   "cell_type": "markdown",
   "metadata": {},
   "source": [
    "#### As the rental cost in both cases didn't seem to be a large percent of costs in either store, here is a plot of just the fixed and variable costs by month in top and bottom stores. Most interestingly here there is a patter seen in the lowest profit margin store where the costs increase and decrease at the same times. Whereas at the highest profit margin store they seem to behaving in opposite directions. Which could help offset expenses throughout the month."
   ]
  },
  {
   "cell_type": "code",
   "execution_count": null,
   "metadata": {},
   "outputs": [],
   "source": []
  }
 ],
 "metadata": {
  "kernelspec": {
   "display_name": "Python 3",
   "language": "python",
   "name": "python3"
  },
  "language_info": {
   "codemirror_mode": {
    "name": "ipython",
    "version": 3
   },
   "file_extension": ".py",
   "mimetype": "text/x-python",
   "name": "python",
   "nbconvert_exporter": "python",
   "pygments_lexer": "ipython3",
   "version": "3.7.4"
  }
 },
 "nbformat": 4,
 "nbformat_minor": 2
}
